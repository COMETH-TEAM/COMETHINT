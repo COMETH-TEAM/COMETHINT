{
 "cells": [
  {
   "cell_type": "code",
   "execution_count": null,
   "id": "25e283bb",
   "metadata": {},
   "outputs": [],
   "source": [
    "!pip install --upgrade pip  # ensures that pip is current"
   ]
  },
  {
   "cell_type": "code",
   "execution_count": null,
   "id": "676239c8",
   "metadata": {},
   "outputs": [],
   "source": [
    "# !git config --global credential.helper store\n",
    "\n",
    "# from huggingface_hub import login\n",
    "\n",
    "# login()"
   ]
  },
  {
   "cell_type": "code",
   "execution_count": null,
   "id": "5004ec62",
   "metadata": {},
   "outputs": [],
   "source": [
    "from comet import download_model, load_from_checkpoint\n",
    "\n",
    "model_path = download_model(\"Unbabel/wmt22-cometkiwi-da\")"
   ]
  },
  {
   "cell_type": "code",
   "execution_count": null,
   "id": "64d9af25",
   "metadata": {},
   "outputs": [],
   "source": [
    "model_path"
   ]
  },
  {
   "cell_type": "code",
   "execution_count": null,
   "id": "0e21b3b1",
   "metadata": {},
   "outputs": [],
   "source": [
    "!python ./comet/cli/train_spanish.py \\\n",
    "    --cfg configs/models/cometh_runconfig.yaml \\\n",
    "    --smt_sparsity 0.9 \\\n",
    "    --warmup_ratio 0.1 \\\n",
    "    --test_file data/test.csv"
   ]
  },
  {
   "cell_type": "code",
   "execution_count": null,
   "id": "1910b957",
   "metadata": {},
   "outputs": [],
   "source": [
    "!python ./comet/cli/train_polish.py \\\n",
    "    --cfg configs/models/cometh_runconfig.yaml \\\n",
    "    --lora_alpha 16 \\\n",
    "    --lora_dropout 0.05 \\\n",
    "    --lora_rank 8 \\\n",
    "    --warmup_ratio 0.1 \\\n",
    "    --test_file data/test.csv"
   ]
  },
  {
   "cell_type": "code",
   "execution_count": null,
   "id": "377565ab",
   "metadata": {},
   "outputs": [],
   "source": [
    "!CUDA_VISIBLE_DEVICES=0 python ./comet/cli/train_italiano.py \\\n",
    "    --cfg ./configs/models/cometh_runconfig.yaml \\\n",
    "    --load_from_checkpoint $model_path \\\n",
    "    --test_file data/test_ref.csv \\\n",
    "    --use_pissa \\\n",
    "    --pissa_rank 8 \\\n",
    "    --pissa_sample_path data/test_ref.csv \\\n",
    "    --warmup_ratio 0.1"
   ]
  },
  {
   "cell_type": "code",
   "execution_count": null,
   "id": "2f2fb192",
   "metadata": {},
   "outputs": [],
   "source": [
    "!python ./comet/cli/train_mehico.py \\\n",
    "    --cfg ./configs/models/cometh_runconfig.yaml \\\n",
    "    --load_from_checkpoint $model_path \\\n",
    "    --test_file data/test_ref.csv \\\n",
    "    --use_dora \\\n",
    "    --dora_alpha 16.0 \\\n",
    "    --dora_rank 8"
   ]
  }
 ],
 "metadata": {
  "kernelspec": {
   "display_name": "VENV",
   "language": "python",
   "name": "python3"
  },
  "language_info": {
   "codemirror_mode": {
    "name": "ipython",
    "version": 3
   },
   "file_extension": ".py",
   "mimetype": "text/x-python",
   "name": "python",
   "nbconvert_exporter": "python",
   "pygments_lexer": "ipython3",
   "version": "3.12.5"
  }
 },
 "nbformat": 4,
 "nbformat_minor": 5
}
